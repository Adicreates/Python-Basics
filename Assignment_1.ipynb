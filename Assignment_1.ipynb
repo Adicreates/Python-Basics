{
 "cells": [
  {
   "cell_type": "markdown",
   "id": "605a51eb",
   "metadata": {},
   "source": [
    "1. Values: 'hello' , -87.8 , 6\n",
    "   Expressions: * , - , / , + "
   ]
  },
  {
   "cell_type": "markdown",
   "id": "f8002dac",
   "metadata": {},
   "source": [
    "2. Variables are symbols that can store data in a program\n",
    "   Strings are data, used to fill a variable"
   ]
  },
  {
   "cell_type": "markdown",
   "id": "c8b65fde",
   "metadata": {},
   "source": [
    "3. a) int - contains positive or negative whole numbers. No limit to how long an integer value can be\n",
    "   b) float - a real number with floating point representation. Specified by decimal point\n",
    "   c) string - arrays of bytes representing unicode characters"
   ]
  },
  {
   "cell_type": "markdown",
   "id": "c914a619",
   "metadata": {},
   "source": [
    "4. Expressions are combinations of operators and operands that is interpreted to produce some value"
   ]
  },
  {
   "cell_type": "markdown",
   "id": "a71bc60e",
   "metadata": {},
   "source": [
    "5. Statement is a action that does something whereas expression is a sequence of operands and operators"
   ]
  },
  {
   "cell_type": "markdown",
   "id": "020e19a7",
   "metadata": {},
   "source": [
    "6. 23"
   ]
  },
  {
   "cell_type": "markdown",
   "id": "192d487e",
   "metadata": {},
   "source": [
    "7. 'spamspamspam'\n",
    "   'spamspamspam'"
   ]
  },
  {
   "cell_type": "markdown",
   "id": "64d1052e",
   "metadata": {},
   "source": [
    "8. 100 is a int data type but eggs isn't but 100 can be assigned to eggs as its value"
   ]
  },
  {
   "cell_type": "markdown",
   "id": "8d0eceb2",
   "metadata": {},
   "source": [
    "9. int(), float(), str() "
   ]
  },
  {
   "cell_type": "markdown",
   "id": "027f8eb5",
   "metadata": {},
   "source": [
    "10. The expression gives an error because the three operands are not of same data type hence we convert the integer 99 to string by type casting it"
   ]
  },
  {
   "cell_type": "code",
   "execution_count": null,
   "id": "0d1f8ae7",
   "metadata": {},
   "outputs": [],
   "source": []
  }
 ],
 "metadata": {
  "kernelspec": {
   "display_name": "Python 3 (ipykernel)",
   "language": "python",
   "name": "python3"
  },
  "language_info": {
   "codemirror_mode": {
    "name": "ipython",
    "version": 3
   },
   "file_extension": ".py",
   "mimetype": "text/x-python",
   "name": "python",
   "nbconvert_exporter": "python",
   "pygments_lexer": "ipython3",
   "version": "3.9.7"
  }
 },
 "nbformat": 4,
 "nbformat_minor": 5
}
